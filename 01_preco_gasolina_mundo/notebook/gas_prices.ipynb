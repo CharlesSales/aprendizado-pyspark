{
  "cells": [
    {
      "cell_type": "code",
      "execution_count": 135,
      "metadata": {
        "id": "c7jojU4LH-TP"
      },
      "outputs": [],
      "source": [
        "from pyspark.sql import SparkSession\n",
        "from pyspark.sql.functions import mean, max,  col, round"
      ]
    },
    {
      "cell_type": "code",
      "execution_count": 136,
      "metadata": {
        "id": "AFr8KzW9IbiM"
      },
      "outputs": [],
      "source": [
        "# Criação da SparkSession\n",
        "spark = SparkSession.builder.appName('Hello World!').getOrCreate()\n",
        "\n",
        "# Leitura do dataset\n",
        "df = spark.read.csv('/content/gas_prices.csv', header=True, inferSchema=True)"
      ]
    },
    {
      "cell_type": "code",
      "execution_count": 166,
      "metadata": {
        "colab": {
          "base_uri": "https://localhost:8080/"
        },
        "id": "PXXYPONnJvv_",
        "outputId": "326d4ff0-993e-41bd-eb76-1cdb5642436e"
      },
      "outputs": [
        {
          "output_type": "stream",
          "name": "stdout",
          "text": [
            "+----+---------+------+------+-------+-----+-----+------+-----------+----+----+\n",
            "|Year|Australia|Canada|France|Germany|Italy|Japan|Mexico|South Korea|  UK| USA|\n",
            "+----+---------+------+------+-------+-----+-----+------+-----------+----+----+\n",
            "|1990|     NULL|  1.87|  3.63|   2.65| 4.59| 3.16|   1.0|       2.05|2.82|1.16|\n",
            "|1991|     1.96|  1.92|  3.45|    2.9|  4.5| 3.46|   1.3|       2.49|3.01|1.14|\n",
            "|1992|     1.89|  1.73|  3.56|   3.27| 4.53| 3.58|   1.5|       2.65|3.06|1.13|\n",
            "|1993|     1.73|  1.57|  3.41|   3.07| 3.68| 4.16|  1.56|       2.88|2.84|1.11|\n",
            "|1994|     1.84|  1.45|  3.59|   3.52|  3.7| 4.36|  1.48|       2.87|2.99|1.11|\n",
            "+----+---------+------+------+-------+-----+-----+------+-----------+----+----+\n",
            "only showing top 5 rows\n",
            "\n",
            "root\n",
            " |-- Year: integer (nullable = true)\n",
            " |-- Australia: double (nullable = true)\n",
            " |-- Canada: double (nullable = true)\n",
            " |-- France: double (nullable = true)\n",
            " |-- Germany: double (nullable = true)\n",
            " |-- Italy: double (nullable = true)\n",
            " |-- Japan: double (nullable = true)\n",
            " |-- Mexico: double (nullable = true)\n",
            " |-- South Korea: double (nullable = true)\n",
            " |-- UK: double (nullable = true)\n",
            " |-- USA: double (nullable = true)\n",
            "\n"
          ]
        }
      ],
      "source": [
        "# Exibir amostra e schema\n",
        "df.show(5)\n",
        "df.printSchema()"
      ]
    },
    {
      "cell_type": "code",
      "execution_count": 138,
      "metadata": {
        "colab": {
          "base_uri": "https://localhost:8080/"
        },
        "id": "iZ1-H-a0J6bo",
        "outputId": "51d318d2-dc10-4104-c1ac-9a1a7a5e1850"
      },
      "outputs": [
        {
          "output_type": "stream",
          "name": "stdout",
          "text": [
            "root\n",
            " |-- Year: integer (nullable = true)\n",
            " |-- Australia: double (nullable = true)\n",
            " |-- Canada: double (nullable = true)\n",
            " |-- France: double (nullable = true)\n",
            " |-- Germany: double (nullable = true)\n",
            " |-- Italy: double (nullable = true)\n",
            " |-- Japan: double (nullable = true)\n",
            " |-- Mexico: double (nullable = true)\n",
            " |-- South Korea: double (nullable = true)\n",
            " |-- UK: double (nullable = true)\n",
            " |-- USA: double (nullable = true)\n",
            "\n"
          ]
        }
      ],
      "source": [
        "\n"
      ]
    },
    {
      "cell_type": "code",
      "execution_count": 165,
      "metadata": {
        "id": "WgztNqqqjv5N",
        "colab": {
          "base_uri": "https://localhost:8080/"
        },
        "outputId": "b64d14e0-1e23-44c0-daa2-4f1899c6f41e"
      },
      "outputs": [
        {
          "output_type": "execute_result",
          "data": {
            "text/plain": [
              "['Australia',\n",
              " 'Canada',\n",
              " 'France',\n",
              " 'Germany',\n",
              " 'Italy',\n",
              " 'Japan',\n",
              " 'Mexico',\n",
              " 'South Korea',\n",
              " 'UK',\n",
              " 'USA']"
            ]
          },
          "metadata": {},
          "execution_count": 165
        }
      ],
      "source": [
        "# Colunas de países (excluindo \"Year\")\n",
        "colunas_paises = [col for col in df.columns if col != 'Year']\n",
        "colunas_paises"
      ]
    },
    {
      "cell_type": "code",
      "execution_count": 156,
      "metadata": {
        "colab": {
          "base_uri": "https://localhost:8080/"
        },
        "id": "SWxuoNRJmiRX",
        "outputId": "2f4ef987-e46e-4155-b541-19ab966637c4"
      },
      "outputs": [
        {
          "output_type": "stream",
          "name": "stdout",
          "text": [
            "+----------------------+\n",
            "|media USA decada de 90|\n",
            "+----------------------+\n",
            "|    1.1490000000000002|\n",
            "+----------------------+\n",
            "\n"
          ]
        }
      ],
      "source": [
        "# Preço médio da gasolina nos EUA na década de 90\n",
        "df_usa = df.select('Year', 'USA')\n",
        "\n",
        "df_usa_90s = df_usa.filter((col('Year') >= 1990) & (col('Year') <= 1999))\n",
        "\n",
        "media = df_usa_90s.agg(mean('USA').alias('media USA decada de 90'))\n",
        "\n",
        "media.show()"
      ]
    },
    {
      "cell_type": "code",
      "source": [
        "# Ano com o maior preço no Japão\n",
        "df_japao = df.select('Year', 'Japan')\n",
        "max_japao = df_japao.agg(max('Japan').alias('Maior preço do Japão')).collect()[0]['Maior preço do Japão']\n",
        "maior_valor_japao = df_japao.filter(df_japao.Japan == max_japao)\n",
        "maior_valor_japao.show()"
      ],
      "metadata": {
        "colab": {
          "base_uri": "https://localhost:8080/"
        },
        "id": "YpIY-eWqt1VD",
        "outputId": "91f2f961-661e-4656-d633-834b1127a453"
      },
      "execution_count": 157,
      "outputs": [
        {
          "output_type": "stream",
          "name": "stdout",
          "text": [
            "+----+-----+\n",
            "|Year|Japan|\n",
            "+----+-----+\n",
            "|2008| 5.74|\n",
            "+----+-----+\n",
            "\n"
          ]
        }
      ]
    },
    {
      "cell_type": "code",
      "source": [
        "# Média global por ano\n",
        "\n",
        "media_por_ano = sum([col(c) for c in colunas_paises.columns]) / len(colunas_paises.columns)\n",
        "\n",
        "df_com_media = df.withColumn('Media_global', round(media_por_ano, 2))\n",
        "\n",
        "df_com_media.select('Year', 'Media_global').show(10)"
      ],
      "metadata": {
        "colab": {
          "base_uri": "https://localhost:8080/"
        },
        "id": "VK8vmxAW0pTz",
        "outputId": "51c88993-c759-4223-b633-0526b4e37a60"
      },
      "execution_count": 154,
      "outputs": [
        {
          "output_type": "stream",
          "name": "stdout",
          "text": [
            "+----+------------+\n",
            "|Year|Media_global|\n",
            "+----+------------+\n",
            "|1990|        NULL|\n",
            "|1991|        2.61|\n",
            "|1992|        2.69|\n",
            "|1993|         2.6|\n",
            "|1994|        2.69|\n",
            "|1995|        2.85|\n",
            "|1996|        2.91|\n",
            "|1997|        2.84|\n",
            "|1998|        2.65|\n",
            "|1999|        2.87|\n",
            "+----+------------+\n",
            "only showing top 10 rows\n",
            "\n"
          ]
        }
      ]
    },
    {
      "cell_type": "code",
      "source": [
        "# Ano com maior média global\n",
        "valor_max_media = df_com_media.agg(max('Media_global').alias('Maior media global')).collect()[0]['Maior media global']\n",
        "\n",
        "ano_maior_media = df_com_media.filter(col(\"Media_global\") == valor_max_media)\n",
        "\n",
        "ano_maior_media.select('Year', 'Media_global').show()"
      ],
      "metadata": {
        "colab": {
          "base_uri": "https://localhost:8080/"
        },
        "id": "1vK6_wy957wX",
        "outputId": "d10e07b3-0a27-4d6f-cd51-4d75fff538dd"
      },
      "execution_count": 162,
      "outputs": [
        {
          "output_type": "stream",
          "name": "stdout",
          "text": [
            "+----+------------+\n",
            "|Year|Media_global|\n",
            "+----+------------+\n",
            "|2008|        5.61|\n",
            "+----+------------+\n",
            "\n"
          ]
        }
      ]
    },
    {
      "cell_type": "code",
      "source": [],
      "metadata": {
        "id": "u_-n8QUmKCep"
      },
      "execution_count": null,
      "outputs": []
    }
  ],
  "metadata": {
    "colab": {
      "provenance": []
    },
    "kernelspec": {
      "display_name": "Python 3",
      "name": "python3"
    },
    "language_info": {
      "name": "python"
    }
  },
  "nbformat": 4,
  "nbformat_minor": 0
}